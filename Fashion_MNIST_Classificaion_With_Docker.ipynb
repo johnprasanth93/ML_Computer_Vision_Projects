{
 "cells": [
  {
   "cell_type": "markdown",
   "metadata": {
    "colab_type": "text",
    "id": "bC7-g3yGJCdW"
   },
   "source": [
    "# Fashion-MNIST Neural Network\n",
    "\n",
    "This notebook implements a simple NN consisting of two dense layers, and uses this network to classify Fashion-MNIST images.\n",
    "\n",
    "These Fashion-MNIST images consist of clothing items from these ten classes. (*T-shirt/top, Trouser, Pullover, Dress, Coat, Sandal, Shirt, Sneaker, Bag, Ankle boot)*"
   ]
  },
  {
   "cell_type": "markdown",
   "metadata": {
    "colab_type": "text",
    "id": "tL0ZtKVL6NN4"
   },
   "source": [
    "## Load correct version of TensorFlow\n",
    "\n",
    "Before we use TensorFlow we must load the correct version. We want version 2.x. To do this we execute the Colab commands below. Note that these commands ONLY WORK IN COLAB."
   ]
  },
  {
   "cell_type": "code",
   "execution_count": 1,
   "metadata": {
    "colab": {},
    "colab_type": "code",
    "id": "leSo_zfF6QXV"
   },
   "outputs": [],
   "source": [
    "# Install TensorFlow using Colab's tensorflow_version command\n",
    "try:\n",
    "  # %tensorflow_version only exists in Colab.\n",
    "  %tensorflow_version 2.x\n",
    "except Exception:\n",
    "    pass\n"
   ]
  },
  {
   "cell_type": "markdown",
   "metadata": {
    "colab_type": "text",
    "id": "Sy_y_E9_NFc8"
   },
   "source": [
    "## Import Libraries\n",
    "\n",
    "We import TensorFlow, Numpy, and Matplotlib libraries.  \n",
    "\n",
    "Numpy is a powerful n-dimensional array library that\n",
    "allows us to easily create and manipulate arrays of data, and more!\n",
    "\n",
    "Numpy also allows us to convert TensorFlow's native data structures,\n",
    "to Python native data types.\n",
    "\n",
    "Matplotlib is a graphics plot library"
   ]
  },
  {
   "cell_type": "code",
   "execution_count": 2,
   "metadata": {
    "colab": {},
    "colab_type": "code",
    "id": "RgDK_bJeJpua"
   },
   "outputs": [
    {
     "name": "stdout",
     "output_type": "stream",
     "text": [
      "2.3.0\n"
     ]
    }
   ],
   "source": [
    "# Import libraries\n",
    "import tensorflow as tf\n",
    "import numpy as np\n",
    "import matplotlib.pyplot as plt\n",
    "\n",
    "print(tf.__version__)"
   ]
  },
  {
   "cell_type": "markdown",
   "metadata": {
    "colab_type": "text",
    "id": "EMWdw_E_QPhY"
   },
   "source": [
    "## Problem Statement\n",
    "\n",
    "Using example data, train a model that will correctly predict the class of images of fashion items.\n",
    "\n"
   ]
  },
  {
   "cell_type": "markdown",
   "metadata": {
    "colab_type": "text",
    "id": "N49Xfo21RTr9"
   },
   "source": [
    "## Get Data\n",
    "\n",
    "### About the Fashion-MNIST dataset\n",
    "\n",
    "The Fashion-MNIST dataset is a widely available dataset.  It is documented at the https://github.com/zalandoresearch/fashion-mnist\n",
    "\n",
    "Each image in the dataset is 28 X 28 pixels.  The pixel values are a grayscale with values ranging from 0 to 255.\n",
    "\n",
    "Associated with each image is a number from 0 to 9 specifying the class of the fashion item in the image.  The values for the classes are:\n",
    "\n",
    "| Label | Description |\n",
    "|-------|-------------|\n",
    "| 0     | T-shirt/top |\n",
    "|   1    | Trouser    | \n",
    "|  2     |  Pullover  |\n",
    "|   3    |    Dress    |\n",
    "|    4   |    Coat      |\n",
    "|   5    | Sandal     |\n",
    "|   6    | Shirt         |\n",
    "|    7   |  Sneaker  |\n",
    "|   8    |  Bag          |\n",
    "|  9     | Ankle boot |\n",
    "\n",
    "There are 60,000 Training examples and 10,000 Testing examples. "
   ]
  },
  {
   "cell_type": "markdown",
   "metadata": {
    "colab_type": "text",
    "id": "qswhm4c7nMVl"
   },
   "source": [
    "We will need these class names later in the code.  So we create an list of names we can index by the class label number.  For example, class_names[2] = 'Pullover' and class_names[9] = 'Ankle boot'."
   ]
  },
  {
   "cell_type": "code",
   "execution_count": 3,
   "metadata": {
    "colab": {},
    "colab_type": "code",
    "id": "zK737-ABm7od"
   },
   "outputs": [],
   "source": [
    "# Define class names to display\n",
    "class_names = ['T-shirt/top', 'Trouser', 'Pullover', 'Dress', 'Coat',\n",
    "                  'Sandal', 'Shirt', 'Sneaker', 'Bag', 'Ankle boot']"
   ]
  },
  {
   "cell_type": "markdown",
   "metadata": {
    "colab_type": "text",
    "id": "YcAJeHCCm_TW"
   },
   "source": [
    "Fashion-MNIST is one of the datasets provided with Keras in Tensorflow.  Keras' Dataset library provides a load_data() method that will download the dataset of 60,000 Training images and their corresponding 60,000 labels, and 10,000 Test images and their corresponding 10,000 labels."
   ]
  },
  {
   "cell_type": "code",
   "execution_count": 4,
   "metadata": {
    "colab": {},
    "colab_type": "code",
    "id": "1MMs613GNLe4"
   },
   "outputs": [
    {
     "name": "stdout",
     "output_type": "stream",
     "text": [
      "Downloading data from https://storage.googleapis.com/tensorflow/tf-keras-datasets/train-labels-idx1-ubyte.gz\n",
      "32768/29515 [=================================] - 0s 1us/step\n",
      "Downloading data from https://storage.googleapis.com/tensorflow/tf-keras-datasets/train-images-idx3-ubyte.gz\n",
      "26427392/26421880 [==============================] - 1s 0us/step\n",
      "Downloading data from https://storage.googleapis.com/tensorflow/tf-keras-datasets/t10k-labels-idx1-ubyte.gz\n",
      "8192/5148 [===============================================] - 0s 0us/step\n",
      "Downloading data from https://storage.googleapis.com/tensorflow/tf-keras-datasets/t10k-images-idx3-ubyte.gz\n",
      "4423680/4422102 [==============================] - 0s 0us/step\n"
     ]
    }
   ],
   "source": [
    "fashion_mnist = tf.keras.datasets.fashion_mnist\n",
    "(train_images, train_labels), (test_images, test_labels) = fashion_mnist.load_data()\n"
   ]
  },
  {
   "cell_type": "markdown",
   "metadata": {
    "colab_type": "text",
    "id": "oAcxPIjJkLKZ"
   },
   "source": [
    "### Explore the data\n",
    "\n",
    "Let's look at our data."
   ]
  },
  {
   "cell_type": "code",
   "execution_count": 5,
   "metadata": {
    "colab": {},
    "colab_type": "code",
    "id": "Umx96CdYV-yz"
   },
   "outputs": [
    {
     "name": "stdout",
     "output_type": "stream",
     "text": [
      "Training data: (60000, 28, 28) (60000,)\n",
      "Test data: (10000, 28, 28) (10000,)\n"
     ]
    }
   ],
   "source": [
    "# Print the shape of the data tensors we loaded.  Should be:\n",
    "#   60,000 training 28X28 images and their labels, and 10,000 testing images and their labels\n",
    "print ('Training data:', train_images.shape, train_labels.shape)\n",
    "print ('Test data:', test_images.shape, test_labels.shape)"
   ]
  },
  {
   "cell_type": "markdown",
   "metadata": {
    "colab_type": "text",
    "id": "4Jq_XBs9Xa6C"
   },
   "source": [
    "### Inspect data\n",
    "Each image should be a 28 X 28 image and have a gray scale value of 0-255. Let's display an arbitrary image.\n",
    "\n",
    "You should see:  \n",
    "* A title that specifies the class of the image, whose description is shown on the table above.\n",
    "* The image \n",
    "* The 28 by 28 width and height pixel index \n",
    "* and on the right the grayscale legend associated with the pixel values."
   ]
  },
  {
   "cell_type": "code",
   "execution_count": 6,
   "metadata": {
    "colab": {},
    "colab_type": "code",
    "id": "ni0bRFhjWP1y"
   },
   "outputs": [],
   "source": [
    "def show_training_image(index):\n",
    "  img_label = str(train_labels[index]) + ' (' +  class_names[train_labels[index]] + ')'\n",
    "  plt.figure()\n",
    "  plt.title('Image Label ' + img_label) \n",
    "  plt.imshow(train_images[index], cmap='gray')  # data is grayscale, but displays in color without cmap='gray'\n",
    "  plt.colorbar()\n",
    "  plt.show()\n"
   ]
  },
  {
   "cell_type": "code",
   "execution_count": 7,
   "metadata": {
    "colab": {},
    "colab_type": "code",
    "id": "gJa1Wq_4acop"
   },
   "outputs": [
    {
     "data": {
      "image/png": "[encoded data removed]",
      "text/plain": [
       "<Figure size 432x288 with 2 Axes>"
      ]
     },
     "metadata": {
      "needs_background": "light"
     },
     "output_type": "display_data"
    }
   ],
   "source": [
    "img_index = 100\n",
    "show_training_image(img_index)"
   ]
  },
  {
   "cell_type": "markdown",
   "metadata": {
    "colab_type": "text",
    "id": "Db_TW6wccWHw"
   },
   "source": [
    "## Prepare Data\n",
    "\n",
    "As usual we need to do some pre-processing of the data.  Here we want to scale the pixels values from 0 to 255 to 0.0 to 1.0.  We scale both the training and testing image values."
   ]
  },
  {
   "cell_type": "code",
   "execution_count": 8,
   "metadata": {
    "colab": {},
    "colab_type": "code",
    "id": "o0vDE9tBYUWx"
   },
   "outputs": [
    {
     "data": {
      "image/png": "[encoded data removed]",
      "text/plain": [
       "<Figure size 432x288 with 2 Axes>"
      ]
     },
     "metadata": {
      "needs_background": "light"
     },
     "output_type": "display_data"
    }
   ],
   "source": [
    "# scale training and testing image values\n",
    "train_images = train_images / 255.0\n",
    "test_images = test_images / 255.0\n",
    "\n",
    "# Print the image again and notice the values now range from 0 to 1.\n",
    "#   And the image looks the same, just on a different scale. \n",
    "show_training_image(img_index)"
   ]
  },
  {
   "cell_type": "markdown",
   "metadata": {
    "colab_type": "text",
    "id": "ZAAj8oXkeBsY"
   },
   "source": [
    "## Create Model\n",
    "\n",
    "We can now create the model we are going to train with the data.\n",
    "\n",
    "This will be a simple model that:\n",
    "* Flattens the 28 X 28 pixel values into a long stream of 28 by 28 = 784 pixel values - Note this is a Keras layer but is not a neural network layer. Notice the input_shape parameter contains only the shape of a single data element.  There are n data elements each with this same shape. \n",
    "* Passes each pixel value as the input to each of the 128 neurons.  \n",
    "* And finally passes values to the last layer that contains 10 neurons, one for each of the ten classes (t-shirt, pullover, etc).  Each of these 10 neurons uses the Softmax activation function to determine the probability that the image is each class.  The final output from the model is a vector of probabilities that the image is of each class.  Such as :\n",
    "[0.01, 0.05, 0.04, 0.06, 0.50, 0.20, 0.04, 0.00, 0.03, 0.07].  This example vector adds up to 1.0 and shows the probability that the image is class 0 (T-shirt/top) is 0.01 (1%), class 1 (Trousers) is 0.05 (5%), class 2 (Pullover) is 0.04 (4%), ....\n"
   ]
  },
  {
   "cell_type": "code",
   "execution_count": 9,
   "metadata": {
    "colab": {},
    "colab_type": "code",
    "id": "0N2R893MdSZn"
   },
   "outputs": [],
   "source": [
    "\n",
    "model = tf.keras.models.Sequential()      # Create a new sequential model\n",
    "model.add(tf.keras.layers.Flatten(input_shape=(28,28)))    # keras processing layer - no neurons\n",
    "model.add(tf.keras.layers.Dense(128, activation='relu', name='dense-128-relu'))   # 128 neurons connected to pixels\n",
    "model.add(tf.keras.layers.Dense(10, activation='softmax', name='dense-10-softmax')) # determines probability of each of the 10 classes\n"
   ]
  },
  {
   "cell_type": "markdown",
   "metadata": {
    "colab_type": "text",
    "id": "6nu2185LTBq8"
   },
   "source": [
    "### Structure of the model\n",
    "\n",
    "To make it easy for us to visualize the model, Keras models have a summary method.  When we call it we see our model structure.  \n",
    "\n",
    "For completeness we also show the shape of the input data.\n"
   ]
  },
  {
   "cell_type": "code",
   "execution_count": 10,
   "metadata": {
    "colab": {},
    "colab_type": "code",
    "id": "0gXXuAqQURdH"
   },
   "outputs": [
    {
     "name": "stdout",
     "output_type": "stream",
     "text": [
      "Input Shape: (60000, 28, 28)\n",
      "\n",
      "Model: \"sequential\"\n",
      "_________________________________________________________________\n",
      "Layer (type)                 Output Shape              Param #   \n",
      "=================================================================\n",
      "flatten (Flatten)            (None, 784)               0         \n",
      "_________________________________________________________________\n",
      "dense-128-relu (Dense)       (None, 128)               100480    \n",
      "_________________________________________________________________\n",
      "dense-10-softmax (Dense)     (None, 10)                1290      \n",
      "=================================================================\n",
      "Total params: 101,770\n",
      "Trainable params: 101,770\n",
      "Non-trainable params: 0\n",
      "_________________________________________________________________\n",
      "None\n"
     ]
    }
   ],
   "source": [
    "print('Input Shape:', train_images.shape)\n",
    "print()\n",
    "print(model.summary())"
   ]
  },
  {
   "cell_type": "markdown",
   "metadata": {
    "colab_type": "text",
    "id": "BJTmzxCJ3Bpi"
   },
   "source": [
    "### Compile the model\n",
    "\n",
    "Before we can train the model we need to specify how the model will learn from the training data.  To do this we specify:\n",
    "*  loss - how we measure loss (error).  We will use sparse_categorical_crossentropy, which determines the highest predicted class and calculates loss based on how often this is the correct class.\n",
    "*     optimizer - how the model will update the model's weights to reduce the loss.  We use the Adam variant of Mini-batch Gradient Descent.\n",
    "* metrics  - the metrics used for evaluation of training and test.  In this case we use accuracy, that is how often the images are correctly classified.  Higher is better. (1.00 would be perfect (100%), 0,75 = 75%, 0.25 = 25%, ...) \n"
   ]
  },
  {
   "cell_type": "code",
   "execution_count": 11,
   "metadata": {
    "colab": {},
    "colab_type": "code",
    "id": "TW9pZ8kw2Nid"
   },
   "outputs": [],
   "source": [
    "model.compile(optimizer='adam',\n",
    "              loss='sparse_categorical_crossentropy',\n",
    "              metrics=['accuracy'])\n"
   ]
  },
  {
   "cell_type": "markdown",
   "metadata": {
    "colab_type": "text",
    "id": "T7wyz8jh6ZA6"
   },
   "source": [
    "## Train the Model\n",
    "Now that we have our data and model, and have specified how the model will learn from the data we can train it."
   ]
  },
  {
   "cell_type": "code",
   "execution_count": 12,
   "metadata": {
    "colab": {},
    "colab_type": "code",
    "id": "osxdZq5y6qF1"
   },
   "outputs": [
    {
     "name": "stdout",
     "output_type": "stream",
     "text": [
      "Epoch 1/40\n",
      "1875/1875 [==============================] - 2s 919us/step - loss: 0.5002 - accuracy: 0.8255\n",
      "Epoch 2/40\n",
      "1875/1875 [==============================] - 2s 1ms/step - loss: 0.3748 - accuracy: 0.8648\n",
      "Epoch 3/40\n",
      "1875/1875 [==============================] - 2s 981us/step - loss: 0.3362 - accuracy: 0.8768\n",
      "Epoch 4/40\n",
      "1875/1875 [==============================] - 2s 951us/step - loss: 0.3126 - accuracy: 0.8848\n",
      "Epoch 5/40\n",
      "1875/1875 [==============================] - 2s 911us/step - loss: 0.2938 - accuracy: 0.8919\n",
      "Epoch 6/40\n",
      "1875/1875 [==============================] - 2s 891us/step - loss: 0.2798 - accuracy: 0.8965\n",
      "Epoch 7/40\n",
      "1875/1875 [==============================] - 2s 876us/step - loss: 0.2673 - accuracy: 0.9001\n",
      "Epoch 8/40\n",
      "1875/1875 [==============================] - 2s 881us/step - loss: 0.2578 - accuracy: 0.9044\n",
      "Epoch 9/40\n",
      "1875/1875 [==============================] - 2s 902us/step - loss: 0.2449 - accuracy: 0.9084\n",
      "Epoch 10/40\n",
      "1875/1875 [==============================] - 2s 875us/step - loss: 0.2365 - accuracy: 0.9125\n",
      "Epoch 11/40\n",
      "1875/1875 [==============================] - 2s 889us/step - loss: 0.2301 - accuracy: 0.9140\n",
      "Epoch 12/40\n",
      "1875/1875 [==============================] - 2s 896us/step - loss: 0.2227 - accuracy: 0.9166\n",
      "Epoch 13/40\n",
      "1875/1875 [==============================] - 2s 897us/step - loss: 0.2160 - accuracy: 0.9194\n",
      "Epoch 14/40\n",
      "1875/1875 [==============================] - 2s 833us/step - loss: 0.2098 - accuracy: 0.9217\n",
      "Epoch 15/40\n",
      "1875/1875 [==============================] - 2s 833us/step - loss: 0.2056 - accuracy: 0.9229\n",
      "Epoch 16/40\n",
      "1875/1875 [==============================] - 2s 860us/step - loss: 0.1987 - accuracy: 0.9262\n",
      "Epoch 17/40\n",
      "1875/1875 [==============================] - 2s 944us/step - loss: 0.1930 - accuracy: 0.9281\n",
      "Epoch 18/40\n",
      "1875/1875 [==============================] - 2s 930us/step - loss: 0.1874 - accuracy: 0.9296\n",
      "Epoch 19/40\n",
      "1875/1875 [==============================] - 2s 884us/step - loss: 0.1853 - accuracy: 0.9305\n",
      "Epoch 20/40\n",
      "1875/1875 [==============================] - 2s 901us/step - loss: 0.1791 - accuracy: 0.9332\n",
      "Epoch 21/40\n",
      "1875/1875 [==============================] - 2s 887us/step - loss: 0.1766 - accuracy: 0.9334\n",
      "Epoch 22/40\n",
      "1875/1875 [==============================] - 2s 885us/step - loss: 0.1730 - accuracy: 0.9344\n",
      "Epoch 23/40\n",
      "1875/1875 [==============================] - 2s 901us/step - loss: 0.1656 - accuracy: 0.9381\n",
      "Epoch 24/40\n",
      "1875/1875 [==============================] - 2s 864us/step - loss: 0.1635 - accuracy: 0.9376\n",
      "Epoch 25/40\n",
      "1875/1875 [==============================] - 2s 859us/step - loss: 0.1576 - accuracy: 0.9406\n",
      "Epoch 26/40\n",
      "1875/1875 [==============================] - 2s 939us/step - loss: 0.1543 - accuracy: 0.9413\n",
      "Epoch 27/40\n",
      "1875/1875 [==============================] - 2s 956us/step - loss: 0.1531 - accuracy: 0.9429\n",
      "Epoch 28/40\n",
      "1875/1875 [==============================] - 2s 886us/step - loss: 0.1480 - accuracy: 0.9452\n",
      "Epoch 29/40\n",
      "1875/1875 [==============================] - 2s 966us/step - loss: 0.1465 - accuracy: 0.9456\n",
      "Epoch 30/40\n",
      "1875/1875 [==============================] - 2s 861us/step - loss: 0.1429 - accuracy: 0.9460\n",
      "Epoch 31/40\n",
      "1875/1875 [==============================] - 2s 933us/step - loss: 0.1390 - accuracy: 0.9473\n",
      "Epoch 32/40\n",
      "1875/1875 [==============================] - 2s 996us/step - loss: 0.1386 - accuracy: 0.9484\n",
      "Epoch 33/40\n",
      "1875/1875 [==============================] - 2s 880us/step - loss: 0.1330 - accuracy: 0.9500\n",
      "Epoch 34/40\n",
      "1875/1875 [==============================] - 2s 853us/step - loss: 0.1326 - accuracy: 0.9502\n",
      "Epoch 35/40\n",
      "1875/1875 [==============================] - 2s 955us/step - loss: 0.1304 - accuracy: 0.9517\n",
      "Epoch 36/40\n",
      "1875/1875 [==============================] - 2s 952us/step - loss: 0.1265 - accuracy: 0.9524\n",
      "Epoch 37/40\n",
      "1875/1875 [==============================] - 2s 888us/step - loss: 0.1237 - accuracy: 0.9542\n",
      "Epoch 38/40\n",
      "1875/1875 [==============================] - 2s 960us/step - loss: 0.1221 - accuracy: 0.9539\n",
      "Epoch 39/40\n",
      "1875/1875 [==============================] - 2s 900us/step - loss: 0.1185 - accuracy: 0.9559\n",
      "Epoch 40/40\n",
      "1875/1875 [==============================] - 2s 879us/step - loss: 0.1192 - accuracy: 0.9549\n"
     ]
    }
   ],
   "source": [
    "train_hist = model.fit(train_images, train_labels, epochs=40)"
   ]
  },
  {
   "cell_type": "markdown",
   "metadata": {
    "colab_type": "text",
    "id": "R2TLdEfR9tus"
   },
   "source": [
    "Plot the training to makes sure it is converging."
   ]
  },
  {
   "cell_type": "code",
   "execution_count": 13,
   "metadata": {
    "colab": {},
    "colab_type": "code",
    "id": "5hCztJ2o90DS"
   },
   "outputs": [],
   "source": [
    "def plot_acc(hist):\n",
    "  # plot the accuracy\n",
    "  plt.title('Accuracy History')\n",
    "  plt.plot(hist.history['accuracy'])\n",
    "  plt.ylabel('Accuracy')\n",
    "  plt.xlabel('epoch')\n",
    "  plt.show()\n",
    "  \n",
    "def plot_loss(hist):\n",
    "  # plot the loss\n",
    "  plt.title('Loss History')\n",
    "  plt.plot(hist.history['loss'])\n",
    "  plt.ylabel('loss')\n",
    "  plt.xlabel('epoch')\n",
    "  plt.show()\n",
    "\n"
   ]
  },
  {
   "cell_type": "code",
   "execution_count": 14,
   "metadata": {
    "colab": {},
    "colab_type": "code",
    "id": "Zljp5aHqv514"
   },
   "outputs": [
    {
     "data": {
      "image/png": "[encoded data removed]",
      "text/plain": [
       "<Figure size 432x288 with 1 Axes>"
      ]
     },
     "metadata": {
      "needs_background": "light"
     },
     "output_type": "display_data"
    },
    {
     "data": {
      "image/png": "[encoded data removed]",
      "text/plain": [
       "<Figure size 432x288 with 1 Axes>"
      ]
     },
     "metadata": {
      "needs_background": "light"
     },
     "output_type": "display_data"
    }
   ],
   "source": [
    "plot_loss(train_hist)\n",
    "plot_acc(train_hist)"
   ]
  },
  {
   "cell_type": "markdown",
   "metadata": {
    "colab_type": "text",
    "id": "0WOXQpc99Ttj"
   },
   "source": [
    "## Evaluate Trained Model\n",
    "\n",
    "Once we have the model trained, we need to see how it will perform on data that it was not trained on, that is, test data. \n",
    "\n",
    "We do this with Keras' evaluation function and the test dataset we retrieved earlier.\n"
   ]
  },
  {
   "cell_type": "code",
   "execution_count": 15,
   "metadata": {
    "colab": {},
    "colab_type": "code",
    "id": "9yEEjOV69uay"
   },
   "outputs": [
    {
     "name": "stdout",
     "output_type": "stream",
     "text": [
      "max training accuracy: 0.9559166431427002   test accuracy: 0.888700008392334\n"
     ]
    }
   ],
   "source": [
    "test_loss, test_acc = model.evaluate(test_images, test_labels, verbose=0)\n",
    "\n",
    "print('max training accuracy:', max(train_hist.history['accuracy']), '  test accuracy:', test_acc)"
   ]
  },
  {
   "cell_type": "markdown",
   "metadata": {
    "colab_type": "text",
    "id": "nAB01AmFAYw6"
   },
   "source": [
    "## Training Results\n",
    "\n",
    "The model has **about 96% accuracy** on the training data.  And **only 88% accuracy** on testing data on which it was not trained. This is a classic sign that the model overfits the training data.  \n",
    "\n",
    "We need to determine how we can reduce this overfitting and get **good accuracy on both training and test data!**\n",
    "\n",
    "\n"
   ]
  },
  {
   "cell_type": "markdown",
   "metadata": {
    "colab_type": "text",
    "id": "6olDUcpiVkxe"
   },
   "source": [
    "# Monitoring and Improving our Trained Model’s Performance \n",
    "\n",
    "In this section, we want to make changes to improve the performance of our trained model.  By improved performance we mean having the model not overfit the training data and perform poorly on the testing data.\n",
    "\n",
    "There are serveral common techniques to fix this problem.  These include:\n",
    "\n",
    "1.   Reducing Model Complexity - removing neurons or layers\n",
    "2.   Dropout - Randomly removing the contributions from some neurons\n",
    "3.   Early Stopping - Terminating training as early as possible\n",
    "\n",
    "We will try these below.\n",
    "\n"
   ]
  },
  {
   "cell_type": "markdown",
   "metadata": {
    "colab_type": "text",
    "id": "gxM0Nan9ZjmK"
   },
   "source": [
    "## Monitoring performance with TensorBoard\n",
    "\n",
    "We want to ensure we are getting good data to evaluate the performance of our changes.  Fortunately the TensorFlow family include the tool **TensorBoard**.  \n",
    "\n",
    "TensorBoard provides us various ways to monitor the performance of our models including:\n",
    "\n",
    "*    Visualizing metrics such as loss and accuracy\n",
    "*    Comparision of training and evaluation metrics\n",
    "*    Visualizing the model graph (ops and layers)\n",
    "*    Viewing histograms of weights, biases, or other tensors as they change over time\n"
   ]
  },
  {
   "cell_type": "markdown",
   "metadata": {
    "colab_type": "text",
    "id": "rdydWnoYe7gy"
   },
   "source": [
    "TensorBoard can be run inside a Colab notebook, or if you are running your code directly in Python you can invoke TensorBoard from the command line."
   ]
  },
  {
   "cell_type": "code",
   "execution_count": 16,
   "metadata": {
    "colab": {},
    "colab_type": "code",
    "id": "3d1xtI7LjJyf"
   },
   "outputs": [],
   "source": [
    "import datetime"
   ]
  },
  {
   "cell_type": "code",
   "execution_count": 19,
   "metadata": {
    "colab": {},
    "colab_type": "code",
    "id": "m6dqMFnCbkC_"
   },
   "outputs": [],
   "source": [
    "# Load the tensorboard extension\n",
    "%reload_ext tensorboard"
   ]
  },
  {
   "cell_type": "code",
   "execution_count": 20,
   "metadata": {
    "colab": {},
    "colab_type": "code",
    "id": "vaXgSi2yi550"
   },
   "outputs": [],
   "source": [
    "# Clear any logs from previous runs\n",
    "!rm -rf ./logs/ "
   ]
  },
  {
   "cell_type": "code",
   "execution_count": 21,
   "metadata": {
    "colab": {},
    "colab_type": "code",
    "id": "08RQKiAXi_Yz"
   },
   "outputs": [],
   "source": [
    "# Start with a fresh model\n",
    "model = tf.keras.models.Sequential()      # Create a new sequential model\n",
    "model.add(tf.keras.layers.Flatten(input_shape=(28,28)))    # keras processing layer - no neurons\n",
    "model.add(tf.keras.layers.Dense(128, activation='relu', name='dense-128-relu'))   # 128 neurons connected to pixels\n",
    "model.add(tf.keras.layers.Dense(10, activation='softmax', name='dense-10-softmax')) # determine probability of each of the 10 classes"
   ]
  },
  {
   "cell_type": "code",
   "execution_count": 22,
   "metadata": {
    "colab": {},
    "colab_type": "code",
    "id": "Ig5AjqzkjEwM"
   },
   "outputs": [
    {
     "name": "stdout",
     "output_type": "stream",
     "text": [
      "Epoch 1/40\n",
      "   1/1875 [..............................] - ETA: 0s - loss: 2.4859 - accuracy: 0.1250WARNING:tensorflow:From /Users/leoananth/opt/anaconda3/lib/python3.7/site-packages/tensorflow/python/ops/summary_ops_v2.py:1277: stop (from tensorflow.python.eager.profiler) is deprecated and will be removed after 2020-07-01.\n",
      "Instructions for updating:\n",
      "use `tf.profiler.experimental.stop` instead.\n",
      "WARNING:tensorflow:Callbacks method `on_train_batch_end` is slow compared to the batch time (batch time: 0.0020s vs `on_train_batch_end` time: 0.0290s). Check your callbacks.\n",
      "1875/1875 [==============================] - 2s 1ms/step - loss: 0.5001 - accuracy: 0.8233 - val_loss: 0.4414 - val_accuracy: 0.8361\n",
      "Epoch 2/40\n",
      "1875/1875 [==============================] - 2s 1ms/step - loss: 0.3769 - accuracy: 0.8636 - val_loss: 0.3831 - val_accuracy: 0.8611\n",
      "Epoch 3/40\n",
      "1875/1875 [==============================] - 2s 1ms/step - loss: 0.3382 - accuracy: 0.8768 - val_loss: 0.3997 - val_accuracy: 0.8563\n",
      "Epoch 4/40\n",
      "1875/1875 [==============================] - 2s 1ms/step - loss: 0.3154 - accuracy: 0.8845 - val_loss: 0.3858 - val_accuracy: 0.8555\n",
      "Epoch 5/40\n",
      "1875/1875 [==============================] - 2s 1ms/step - loss: 0.2964 - accuracy: 0.8911 - val_loss: 0.3446 - val_accuracy: 0.8778\n",
      "Epoch 6/40\n",
      "1875/1875 [==============================] - 2s 1ms/step - loss: 0.2791 - accuracy: 0.8964 - val_loss: 0.3650 - val_accuracy: 0.8692\n",
      "Epoch 7/40\n",
      "1875/1875 [==============================] - 2s 1ms/step - loss: 0.2686 - accuracy: 0.9003 - val_loss: 0.3414 - val_accuracy: 0.8786\n",
      "Epoch 8/40\n",
      "1875/1875 [==============================] - 2s 1ms/step - loss: 0.2594 - accuracy: 0.9029 - val_loss: 0.3549 - val_accuracy: 0.8820\n",
      "Epoch 9/40\n",
      "1875/1875 [==============================] - 2s 1ms/step - loss: 0.2486 - accuracy: 0.9075 - val_loss: 0.3353 - val_accuracy: 0.8778\n",
      "Epoch 10/40\n",
      "1875/1875 [==============================] - 2s 1ms/step - loss: 0.2396 - accuracy: 0.9104 - val_loss: 0.3241 - val_accuracy: 0.8865\n",
      "Epoch 11/40\n",
      "1875/1875 [==============================] - 2s 1ms/step - loss: 0.2323 - accuracy: 0.9137 - val_loss: 0.3387 - val_accuracy: 0.8852\n",
      "Epoch 12/40\n",
      "1875/1875 [==============================] - 2s 1ms/step - loss: 0.2248 - accuracy: 0.9166 - val_loss: 0.3434 - val_accuracy: 0.8832\n",
      "Epoch 13/40\n",
      "1875/1875 [==============================] - 2s 985us/step - loss: 0.2191 - accuracy: 0.9178 - val_loss: 0.3486 - val_accuracy: 0.8858\n",
      "Epoch 14/40\n",
      "1875/1875 [==============================] - 2s 1ms/step - loss: 0.2131 - accuracy: 0.9199 - val_loss: 0.3470 - val_accuracy: 0.8830\n",
      "Epoch 15/40\n",
      "1875/1875 [==============================] - 2s 1ms/step - loss: 0.2045 - accuracy: 0.9220 - val_loss: 0.3526 - val_accuracy: 0.8853\n",
      "Epoch 16/40\n",
      "1875/1875 [==============================] - 2s 1ms/step - loss: 0.1998 - accuracy: 0.9248 - val_loss: 0.3462 - val_accuracy: 0.8843\n",
      "Epoch 17/40\n",
      "1875/1875 [==============================] - 2s 1ms/step - loss: 0.1946 - accuracy: 0.9267 - val_loss: 0.3454 - val_accuracy: 0.8893\n",
      "Epoch 18/40\n",
      "1875/1875 [==============================] - 2s 976us/step - loss: 0.1887 - accuracy: 0.9287 - val_loss: 0.3462 - val_accuracy: 0.8840\n",
      "Epoch 19/40\n",
      "1875/1875 [==============================] - 2s 1ms/step - loss: 0.1843 - accuracy: 0.9308 - val_loss: 0.3445 - val_accuracy: 0.8896\n",
      "Epoch 20/40\n",
      "1875/1875 [==============================] - 2s 976us/step - loss: 0.1792 - accuracy: 0.9327 - val_loss: 0.3560 - val_accuracy: 0.8911\n",
      "Epoch 21/40\n",
      "1875/1875 [==============================] - 2s 1ms/step - loss: 0.1764 - accuracy: 0.9328 - val_loss: 0.3468 - val_accuracy: 0.8898\n",
      "Epoch 22/40\n",
      "1875/1875 [==============================] - 2s 1ms/step - loss: 0.1700 - accuracy: 0.9360 - val_loss: 0.3662 - val_accuracy: 0.8885\n",
      "Epoch 23/40\n",
      "1875/1875 [==============================] - 2s 1ms/step - loss: 0.1678 - accuracy: 0.9367 - val_loss: 0.3618 - val_accuracy: 0.8892\n",
      "Epoch 24/40\n",
      "1875/1875 [==============================] - 2s 1ms/step - loss: 0.1633 - accuracy: 0.9386 - val_loss: 0.3695 - val_accuracy: 0.8909\n",
      "Epoch 25/40\n",
      "1875/1875 [==============================] - 2s 1ms/step - loss: 0.1611 - accuracy: 0.9401 - val_loss: 0.3774 - val_accuracy: 0.8902\n",
      "Epoch 26/40\n",
      "1875/1875 [==============================] - 2s 1ms/step - loss: 0.1572 - accuracy: 0.9403 - val_loss: 0.3763 - val_accuracy: 0.8875\n",
      "Epoch 27/40\n",
      "1875/1875 [==============================] - 2s 1ms/step - loss: 0.1538 - accuracy: 0.9420 - val_loss: 0.3921 - val_accuracy: 0.8819\n",
      "Epoch 28/40\n",
      "1875/1875 [==============================] - 2s 1ms/step - loss: 0.1508 - accuracy: 0.9434 - val_loss: 0.3816 - val_accuracy: 0.8891\n",
      "Epoch 29/40\n",
      "1875/1875 [==============================] - 2s 1ms/step - loss: 0.1466 - accuracy: 0.9444 - val_loss: 0.3829 - val_accuracy: 0.8890\n",
      "Epoch 30/40\n",
      "1875/1875 [==============================] - 2s 1ms/step - loss: 0.1422 - accuracy: 0.9457 - val_loss: 0.3982 - val_accuracy: 0.8892\n",
      "Epoch 31/40\n",
      "1875/1875 [==============================] - 2s 1ms/step - loss: 0.1404 - accuracy: 0.9473 - val_loss: 0.4185 - val_accuracy: 0.8857\n",
      "Epoch 32/40\n",
      "1875/1875 [==============================] - 2s 1ms/step - loss: 0.1372 - accuracy: 0.9482 - val_loss: 0.4040 - val_accuracy: 0.8902\n",
      "Epoch 33/40\n",
      "1875/1875 [==============================] - 2s 1ms/step - loss: 0.1339 - accuracy: 0.9503 - val_loss: 0.4094 - val_accuracy: 0.8909\n",
      "Epoch 34/40\n",
      "1875/1875 [==============================] - 2s 1ms/step - loss: 0.1334 - accuracy: 0.9500 - val_loss: 0.3990 - val_accuracy: 0.8890\n",
      "Epoch 35/40\n",
      "1875/1875 [==============================] - 2s 1ms/step - loss: 0.1309 - accuracy: 0.9505 - val_loss: 0.4389 - val_accuracy: 0.8863\n",
      "Epoch 36/40\n",
      "1875/1875 [==============================] - 2s 1ms/step - loss: 0.1260 - accuracy: 0.9520 - val_loss: 0.4360 - val_accuracy: 0.8854\n",
      "Epoch 37/40\n",
      "1875/1875 [==============================] - 2s 1ms/step - loss: 0.1260 - accuracy: 0.9529 - val_loss: 0.4070 - val_accuracy: 0.8945\n",
      "Epoch 38/40\n",
      "1875/1875 [==============================] - 2s 946us/step - loss: 0.1223 - accuracy: 0.9541 - val_loss: 0.4295 - val_accuracy: 0.8902\n",
      "Epoch 39/40\n",
      "1875/1875 [==============================] - 2s 1ms/step - loss: 0.1183 - accuracy: 0.9563 - val_loss: 0.4380 - val_accuracy: 0.8857\n",
      "Epoch 40/40\n",
      "1875/1875 [==============================] - 2s 1ms/step - loss: 0.1174 - accuracy: 0.9553 - val_loss: 0.4329 - val_accuracy: 0.8867\n"
     ]
    }
   ],
   "source": [
    "model.compile(optimizer='adam',\n",
    "              loss='sparse_categorical_crossentropy',\n",
    "              metrics=['accuracy'])\n",
    "\n",
    "\n",
    "log_dir='logs/fit/' + datetime.datetime.now().strftime('%Y%m%d-%H%M%S')\n",
    "tensorboard_callback = tf.keras.callbacks.TensorBoard(log_dir=log_dir, histogram_freq=1)\n",
    "\n",
    "# We add to the fit method the validation/test data.  This will cause the training model \n",
    "# to evaluate itself on the validation/test data on each epoch.  This provides per \n",
    "# epoch data points TensorBoard can plot so we can see the trend.\n",
    "train_hist = model.fit(train_images, train_labels, epochs=40,\n",
    "                       validation_data=(test_images, test_labels), \n",
    "                        callbacks=[tensorboard_callback])\n",
    "\n"
   ]
  },
  {
   "cell_type": "code",
   "execution_count": 23,
   "metadata": {
    "colab": {},
    "colab_type": "code",
    "id": "wx9ATGksjWyV"
   },
   "outputs": [
    {
     "data": {
      "text/html": [
       "\n",
       "      <iframe id=\"tensorboard-frame-3bebbae54fe9244a\" width=\"100%\" height=\"800\" frameborder=\"0\">\n",
       "      </iframe>\n",
       "      <script>\n",
       "        (function() {\n",
       "          const frame = document.getElementById(\"tensorboard-frame-3bebbae54fe9244a\");\n",
       "          const url = new URL(\"/\", window.location);\n",
       "          const port = 6006;\n",
       "          if (port) {\n",
       "            url.port = port;\n",
       "          }\n",
       "          frame.src = url;\n",
       "        })();\n",
       "      </script>\n",
       "    "
      ],
      "text/plain": [
       "<IPython.core.display.HTML object>"
      ]
     },
     "metadata": {},
     "output_type": "display_data"
    }
   ],
   "source": [
    "#!kill 1234   # sometime TensorBoard does not show all data.  If it shows reusing previous instance use kill command listed\n",
    "%tensorboard --logdir logs/fit"
   ]
  },
  {
   "cell_type": "markdown",
   "metadata": {
    "colab_type": "text",
    "id": "v05icTF1mDfB"
   },
   "source": [
    "## Fixing Fashion MNIST "
   ]
  },
  {
   "cell_type": "markdown",
   "metadata": {
    "colab_type": "text",
    "id": "E6zDDPjrFm17"
   },
   "source": [
    "### Reducing Model Complexity\n",
    "\n",
    "In a large model we can consider reducing the number of hidden layers.  But our model only has one hidden layer and we need it.  So the only thing to do is reduce the number of neurons in the hidden layer.  Everthing else is the same \n",
    "as above."
   ]
  },
  {
   "cell_type": "code",
   "execution_count": 24,
   "metadata": {
    "colab": {},
    "colab_type": "code",
    "id": "I1UvcFL9Qmps"
   },
   "outputs": [],
   "source": [
    "# Load the tensorboard extension\n",
    "%reload_ext tensorboard"
   ]
  },
  {
   "cell_type": "code",
   "execution_count": 25,
   "metadata": {
    "colab": {},
    "colab_type": "code",
    "id": "UNwSQKJyQmp-"
   },
   "outputs": [],
   "source": [
    "# Clear any logs from previous runs\n",
    "!rm -rf ./logs/ "
   ]
  },
  {
   "cell_type": "code",
   "execution_count": 26,
   "metadata": {
    "colab": {},
    "colab_type": "code",
    "id": "CCUSydw2QmqJ"
   },
   "outputs": [],
   "source": [
    "\n",
    "model = tf.keras.models.Sequential()      # Create a new sequential model\n",
    "model.add(tf.keras.layers.Flatten(input_shape=(28,28)))    # keras processing layer - no neurons\n",
    "model.add(tf.keras.layers.Dense(64, activation='relu', name='dense-64-relu'))   # 64 neurons connected to pixels\n",
    "#model.add(tf.keras.layers.Dense(128, activation='relu', name='dense-128-relu'))   # 128 neurons connected to pixels\n",
    "model.add(tf.keras.layers.Dense(10, activation='softmax', name='dense-10-softmax')) # determine probability of each of the 10 classes"
   ]
  },
  {
   "cell_type": "code",
   "execution_count": 27,
   "metadata": {
    "colab": {},
    "colab_type": "code",
    "id": "n8yt3SeaQmqN"
   },
   "outputs": [
    {
     "name": "stdout",
     "output_type": "stream",
     "text": [
      "Epoch 1/40\n",
      "   1/1875 [..............................] - ETA: 0s - loss: 2.4158 - accuracy: 0.0312WARNING:tensorflow:Callbacks method `on_train_batch_end` is slow compared to the batch time (batch time: 0.0012s vs `on_train_batch_end` time: 0.0237s). Check your callbacks.\n",
      "1875/1875 [==============================] - 2s 1ms/step - loss: 0.5169 - accuracy: 0.8194 - val_loss: 0.4362 - val_accuracy: 0.8489\n",
      "Epoch 2/40\n",
      "1875/1875 [==============================] - 2s 938us/step - loss: 0.3896 - accuracy: 0.8622 - val_loss: 0.4029 - val_accuracy: 0.8560\n",
      "Epoch 3/40\n",
      "1875/1875 [==============================] - 2s 935us/step - loss: 0.3510 - accuracy: 0.8735 - val_loss: 0.3923 - val_accuracy: 0.8549\n",
      "Epoch 4/40\n",
      "1875/1875 [==============================] - 2s 959us/step - loss: 0.3292 - accuracy: 0.8803 - val_loss: 0.3779 - val_accuracy: 0.8636\n",
      "Epoch 5/40\n",
      "1875/1875 [==============================] - 2s 967us/step - loss: 0.3124 - accuracy: 0.8856 - val_loss: 0.3564 - val_accuracy: 0.8693\n",
      "Epoch 6/40\n",
      "1875/1875 [==============================] - 2s 999us/step - loss: 0.2978 - accuracy: 0.8908 - val_loss: 0.3588 - val_accuracy: 0.8770\n",
      "Epoch 7/40\n",
      "1875/1875 [==============================] - 2s 1ms/step - loss: 0.2880 - accuracy: 0.8923 - val_loss: 0.3660 - val_accuracy: 0.8729\n",
      "Epoch 8/40\n",
      "1875/1875 [==============================] - 2s 965us/step - loss: 0.2765 - accuracy: 0.8972 - val_loss: 0.3579 - val_accuracy: 0.8735\n",
      "Epoch 9/40\n",
      "1875/1875 [==============================] - 2s 936us/step - loss: 0.2692 - accuracy: 0.8991 - val_loss: 0.3516 - val_accuracy: 0.8763\n",
      "Epoch 10/40\n",
      "1875/1875 [==============================] - 2s 953us/step - loss: 0.2610 - accuracy: 0.9030 - val_loss: 0.3480 - val_accuracy: 0.8779\n",
      "Epoch 11/40\n",
      "1875/1875 [==============================] - 2s 951us/step - loss: 0.2553 - accuracy: 0.9050 - val_loss: 0.3600 - val_accuracy: 0.8779\n",
      "Epoch 12/40\n",
      "1875/1875 [==============================] - 2s 939us/step - loss: 0.2479 - accuracy: 0.9065 - val_loss: 0.3510 - val_accuracy: 0.8815\n",
      "Epoch 13/40\n",
      "1875/1875 [==============================] - 2s 913us/step - loss: 0.2417 - accuracy: 0.9087 - val_loss: 0.3454 - val_accuracy: 0.8826\n",
      "Epoch 14/40\n",
      "1875/1875 [==============================] - 2s 897us/step - loss: 0.2353 - accuracy: 0.9130 - val_loss: 0.3482 - val_accuracy: 0.8802\n",
      "Epoch 15/40\n",
      "1875/1875 [==============================] - 2s 976us/step - loss: 0.2318 - accuracy: 0.9137 - val_loss: 0.3424 - val_accuracy: 0.8835\n",
      "Epoch 16/40\n",
      "1875/1875 [==============================] - 2s 1ms/step - loss: 0.2253 - accuracy: 0.9165 - val_loss: 0.3472 - val_accuracy: 0.8829\n",
      "Epoch 17/40\n",
      "1875/1875 [==============================] - 2s 945us/step - loss: 0.2195 - accuracy: 0.9183 - val_loss: 0.3489 - val_accuracy: 0.8861\n",
      "Epoch 18/40\n",
      "1875/1875 [==============================] - 2s 920us/step - loss: 0.2149 - accuracy: 0.9203 - val_loss: 0.3637 - val_accuracy: 0.8802\n",
      "Epoch 19/40\n",
      "1875/1875 [==============================] - 2s 904us/step - loss: 0.2125 - accuracy: 0.9204 - val_loss: 0.3640 - val_accuracy: 0.8803\n",
      "Epoch 20/40\n",
      "1875/1875 [==============================] - 2s 933us/step - loss: 0.2069 - accuracy: 0.9226 - val_loss: 0.3568 - val_accuracy: 0.8808\n",
      "Epoch 21/40\n",
      "1875/1875 [==============================] - 2s 938us/step - loss: 0.2042 - accuracy: 0.9233 - val_loss: 0.3570 - val_accuracy: 0.8857\n",
      "Epoch 22/40\n",
      "1875/1875 [==============================] - 2s 894us/step - loss: 0.1993 - accuracy: 0.9245 - val_loss: 0.3775 - val_accuracy: 0.8778\n",
      "Epoch 23/40\n",
      "1875/1875 [==============================] - 2s 933us/step - loss: 0.1965 - accuracy: 0.9270 - val_loss: 0.3597 - val_accuracy: 0.8851\n",
      "Epoch 24/40\n",
      "1875/1875 [==============================] - 2s 952us/step - loss: 0.1933 - accuracy: 0.9273 - val_loss: 0.3743 - val_accuracy: 0.8818\n",
      "Epoch 25/40\n",
      "1875/1875 [==============================] - 2s 923us/step - loss: 0.1892 - accuracy: 0.9298 - val_loss: 0.3652 - val_accuracy: 0.8855\n",
      "Epoch 26/40\n",
      "1875/1875 [==============================] - 2s 984us/step - loss: 0.1871 - accuracy: 0.9304 - val_loss: 0.3802 - val_accuracy: 0.8832\n",
      "Epoch 27/40\n",
      "1875/1875 [==============================] - 2s 1ms/step - loss: 0.1837 - accuracy: 0.9312 - val_loss: 0.3676 - val_accuracy: 0.8835\n",
      "Epoch 28/40\n",
      "1875/1875 [==============================] - 2s 1ms/step - loss: 0.1807 - accuracy: 0.9330 - val_loss: 0.4028 - val_accuracy: 0.8759\n",
      "Epoch 29/40\n",
      "1875/1875 [==============================] - 2s 1ms/step - loss: 0.1775 - accuracy: 0.9343 - val_loss: 0.3879 - val_accuracy: 0.8821\n",
      "Epoch 30/40\n",
      "1875/1875 [==============================] - 2s 944us/step - loss: 0.1736 - accuracy: 0.9359 - val_loss: 0.3939 - val_accuracy: 0.8831\n",
      "Epoch 31/40\n",
      "1875/1875 [==============================] - 2s 1ms/step - loss: 0.1737 - accuracy: 0.9353 - val_loss: 0.3951 - val_accuracy: 0.8850\n",
      "Epoch 32/40\n",
      "1875/1875 [==============================] - 2s 1ms/step - loss: 0.1686 - accuracy: 0.9370 - val_loss: 0.3990 - val_accuracy: 0.8808\n",
      "Epoch 33/40\n",
      "1875/1875 [==============================] - 2s 964us/step - loss: 0.1660 - accuracy: 0.9389 - val_loss: 0.4103 - val_accuracy: 0.8828\n",
      "Epoch 34/40\n",
      "1875/1875 [==============================] - 2s 1ms/step - loss: 0.1652 - accuracy: 0.9393 - val_loss: 0.3911 - val_accuracy: 0.8839\n",
      "Epoch 35/40\n",
      "1875/1875 [==============================] - 2s 955us/step - loss: 0.1630 - accuracy: 0.9401 - val_loss: 0.3991 - val_accuracy: 0.8806\n",
      "Epoch 36/40\n",
      "1875/1875 [==============================] - 2s 944us/step - loss: 0.1612 - accuracy: 0.9397 - val_loss: 0.4075 - val_accuracy: 0.8806\n",
      "Epoch 37/40\n",
      "1875/1875 [==============================] - 2s 962us/step - loss: 0.1591 - accuracy: 0.9407 - val_loss: 0.4175 - val_accuracy: 0.8810\n",
      "Epoch 38/40\n",
      "1875/1875 [==============================] - 2s 972us/step - loss: 0.1565 - accuracy: 0.9421 - val_loss: 0.4332 - val_accuracy: 0.8788\n",
      "Epoch 39/40\n",
      "1875/1875 [==============================] - 2s 953us/step - loss: 0.1527 - accuracy: 0.9435 - val_loss: 0.4277 - val_accuracy: 0.8798\n",
      "Epoch 40/40\n",
      "1875/1875 [==============================] - 2s 953us/step - loss: 0.1531 - accuracy: 0.9424 - val_loss: 0.4328 - val_accuracy: 0.8799\n"
     ]
    }
   ],
   "source": [
    "model.compile(optimizer='adam',\n",
    "              loss='sparse_categorical_crossentropy',\n",
    "              metrics=['accuracy'])\n",
    "\n",
    "\n",
    "log_dir= 'logs/fit/' + datetime.datetime.now().strftime('%Y%m%d-%H%M%S')\n",
    "tensorboard_callback = tf.keras.callbacks.TensorBoard(log_dir=log_dir, histogram_freq=1)\n",
    "\n",
    "# We add to the fit method the validation/test data.  This will cause the training model \n",
    "# to evaluate itself on the validation/test data on each epoch.  This provides per \n",
    "# epoch data points TensorBoard can plot so we can see the trend.\n",
    "train_hist = model.fit(train_images, train_labels, epochs=40,\n",
    "                       validation_data=(test_images, test_labels), \n",
    "                        callbacks=[tensorboard_callback])\n",
    "\n"
   ]
  },
  {
   "cell_type": "markdown",
   "metadata": {
    "colab_type": "text",
    "id": "Ke-rDI6UmGaX"
   },
   "source": [
    "Show the results with TensorBoard"
   ]
  },
  {
   "cell_type": "code",
   "execution_count": 28,
   "metadata": {
    "colab": {},
    "colab_type": "code",
    "id": "hox4ABkzmFWm"
   },
   "outputs": [
    {
     "data": {
      "text/plain": [
       "Reusing TensorBoard on port 6006 (pid 27511), started 0:03:22 ago. (Use '!kill 27511' to kill it.)"
      ]
     },
     "metadata": {},
     "output_type": "display_data"
    },
    {
     "data": {
      "text/html": [
       "\n",
       "      <iframe id=\"tensorboard-frame-b53d817e529e9383\" width=\"100%\" height=\"800\" frameborder=\"0\">\n",
       "      </iframe>\n",
       "      <script>\n",
       "        (function() {\n",
       "          const frame = document.getElementById(\"tensorboard-frame-b53d817e529e9383\");\n",
       "          const url = new URL(\"/\", window.location);\n",
       "          const port = 6006;\n",
       "          if (port) {\n",
       "            url.port = port;\n",
       "          }\n",
       "          frame.src = url;\n",
       "        })();\n",
       "      </script>\n",
       "    "
      ],
      "text/plain": [
       "<IPython.core.display.HTML object>"
      ]
     },
     "metadata": {},
     "output_type": "display_data"
    }
   ],
   "source": [
    "#!kill 1234   # sometime TensorBoard does not show all data.  If it shows reusing previous instance use kill command listed\n",
    "%tensorboard --logdir logs/fit"
   ]
  },
  {
   "cell_type": "markdown",
   "metadata": {
    "colab_type": "text",
    "id": "qBwxV4HjFOwT"
   },
   "source": [
    "### Randomly dropout some neurons\n",
    "\n",
    "To randomly shut down the contribution from some neurons, we add a Keras dropout layer.  This layer randomly sets the outputs from the previous layer to 0.  How many outputs are set to 0 is defined by the parameter we pass.  To set 50% of \n",
    "the outputs to 0 pass 0.5.  For 20% pass 0.2.\n",
    "\n",
    "Also, the decision on which connections get dropped is a random selection that \n",
    "changes from epoch to epoch."
   ]
  },
  {
   "cell_type": "code",
   "execution_count": 30,
   "metadata": {
    "colab": {},
    "colab_type": "code",
    "id": "xSMjk8zBpc2A"
   },
   "outputs": [],
   "source": [
    "# Load the tensorboard extension\n",
    "%reload_ext tensorboard"
   ]
  },
  {
   "cell_type": "code",
   "execution_count": 31,
   "metadata": {
    "colab": {},
    "colab_type": "code",
    "id": "3GcFNsSBpc2O"
   },
   "outputs": [],
   "source": [
    "# Clear any logs from previous runs\n",
    "!rm -rf ./logs/ "
   ]
  },
  {
   "cell_type": "code",
   "execution_count": 32,
   "metadata": {
    "colab": {},
    "colab_type": "code",
    "id": "W9SazRfplKGA"
   },
   "outputs": [],
   "source": [
    "model = tf.keras.models.Sequential()      # Create a new sequential model\n",
    "model.add(tf.keras.layers.Flatten(input_shape=(28,28)))    # keras processing layer - no neurons\n",
    "model.add(tf.keras.layers.Dense(128, activation='relu', name='dense-128-relu'))   # 128 neurons connected to pixels\n",
    "model.add(tf.keras.layers.Dropout(0.2))  # dropout 20%\n",
    "model.add(tf.keras.layers.Dense(10, activation='softmax', name='dense-10-softmax')) # determine probability of each of the 10 classes"
   ]
  },
  {
   "cell_type": "code",
   "execution_count": 33,
   "metadata": {
    "colab": {},
    "colab_type": "code",
    "id": "OM9BuhuBlWo0"
   },
   "outputs": [],
   "source": [
    "model.compile(optimizer='adam',\n",
    "              loss='sparse_categorical_crossentropy',\n",
    "              metrics=['accuracy'])"
   ]
  },
  {
   "cell_type": "code",
   "execution_count": null,
   "metadata": {
    "colab": {},
    "colab_type": "code",
    "id": "jM5sr1YGlcIb"
   },
   "outputs": [],
   "source": [
    "log_dir='logs/fit/' + datetime.datetime.now().strftime('%Y%m%d-%H%M%S')\n",
    "tensorboard_callback = tf.keras.callbacks.TensorBoard(log_dir=log_dir, histogram_freq=1)\n",
    "\n",
    "model.fit(x=train_images, \n",
    "          y=train_labels, \n",
    "          epochs=40, \n",
    "          validation_data=(test_images, test_labels), \n",
    "          callbacks=[tensorboard_callback])\n"
   ]
  },
  {
   "cell_type": "code",
   "execution_count": null,
   "metadata": {
    "colab": {},
    "colab_type": "code",
    "id": "qlUy6ZlRlOZ8"
   },
   "outputs": [],
   "source": [
    "#!kill 1234   # sometime TensorBoard does not show all data.  If it shows reusing previous instance use kill command listed\n",
    "%tensorboard --logdir logs/fit"
   ]
  },
  {
   "cell_type": "markdown",
   "metadata": {
    "colab_type": "text",
    "id": "3wrym729ZWre"
   },
   "source": [
    "### Implementing Early Stopping\n",
    "\n",
    "Early stopping involves having the training stop when the model has been trained enough.  \n",
    "\n",
    "Often training is slow in terms of time, and expensive in terms of compute time on big clusters or a cloud service.  So it is useful to be able to stop training as soon as reasonable.  And reasonable is usually when the metric like lose quits decreasing.  So the question is, how can we know when the loss quits decreasing?  \n",
    "\n",
    "We could run a bunch of trials and use a tool like TensorBoard to plot curves.  But it is tedious to write a model with 20 epochs, run it, see loss was decreasing, then repeat that with 40 epochs, etc.  Worse, if we change the model or it's parameters, like adjusting the dropout percentage, the number of epochs required to see when the loss stops decreasing might be different.\n",
    "\n",
    "So what we need is an automated way to detect when training has quit improving and terminate training.  And fortunately Keras has an early stopping feature that does just this!"
   ]
  },
  {
   "cell_type": "markdown",
   "metadata": {
    "colab_type": "text",
    "id": "_lKTkBVvN2dI"
   },
   "source": [
    "We start with the same model, optimizer, loss, and log clearing code as before."
   ]
  },
  {
   "cell_type": "code",
   "execution_count": 34,
   "metadata": {
    "colab": {},
    "colab_type": "code",
    "id": "D0FSUxUT3Cuf"
   },
   "outputs": [],
   "source": [
    "# Load the tensorboard extension\n",
    "%reload_ext tensorboard"
   ]
  },
  {
   "cell_type": "code",
   "execution_count": 35,
   "metadata": {
    "colab": {},
    "colab_type": "code",
    "id": "dGm6LMEL2--j"
   },
   "outputs": [],
   "source": [
    "# Clear any logs from previous runs\n",
    "!rm -rf ./logs/ "
   ]
  },
  {
   "cell_type": "code",
   "execution_count": 36,
   "metadata": {
    "colab": {},
    "colab_type": "code",
    "id": "62luPqB8NqaI"
   },
   "outputs": [],
   "source": [
    "model = tf.keras.models.Sequential()      # Create a new sequential model\n",
    "model.add(tf.keras.layers.Flatten(input_shape=(28,28)))    # keras processing layer - no neurons\n",
    "model.add(tf.keras.layers.Dense(128, activation='relu', name='dense-128-relu'))   # 128 neurons connected to pixels\n",
    "model.add(tf.keras.layers.Dense(10, activation='softmax', name='dense-10-softmax')) # determine probability of each of the 10 classes"
   ]
  },
  {
   "cell_type": "code",
   "execution_count": 37,
   "metadata": {
    "colab": {},
    "colab_type": "code",
    "id": "ROXcHFavNqaS"
   },
   "outputs": [],
   "source": [
    "model.compile(optimizer='adam',\n",
    "              loss='sparse_categorical_crossentropy',\n",
    "              metrics=['accuracy'])"
   ]
  },
  {
   "cell_type": "markdown",
   "metadata": {
    "colab_type": "text",
    "id": "F6TY_BVDOou_"
   },
   "source": [
    "We create a new EarlyStopping callback.\n",
    "\n",
    "And we set the **monitor** parameter to the parameter to monitor, which is **validation loss**. And the  **patience** parameter to the maximum number of epochs without improvement allowed.  And if the parameter does not improve within the patience number of epochs, the training will be terminated.\n",
    "\n",
    "This new callback gets added to the list of callbacks."
   ]
  },
  {
   "cell_type": "code",
   "execution_count": 38,
   "metadata": {
    "colab": {},
    "colab_type": "code",
    "id": "1o3tiyB_NyhV"
   },
   "outputs": [
    {
     "name": "stdout",
     "output_type": "stream",
     "text": [
      "Epoch 1/40\n",
      "   1/1875 [..............................] - ETA: 0s - loss: 2.6054 - accuracy: 0.0312WARNING:tensorflow:Callbacks method `on_train_batch_end` is slow compared to the batch time (batch time: 0.0014s vs `on_train_batch_end` time: 0.0412s). Check your callbacks.\n",
      "1875/1875 [==============================] - 2s 1ms/step - loss: 0.5008 - accuracy: 0.8244 - val_loss: 0.4251 - val_accuracy: 0.8467\n",
      "Epoch 2/40\n",
      "1875/1875 [==============================] - 2s 1ms/step - loss: 0.3720 - accuracy: 0.8649 - val_loss: 0.4067 - val_accuracy: 0.8540\n",
      "Epoch 3/40\n",
      "1875/1875 [==============================] - 2s 1ms/step - loss: 0.3363 - accuracy: 0.8774 - val_loss: 0.3664 - val_accuracy: 0.8697\n",
      "Epoch 4/40\n",
      "1875/1875 [==============================] - 2s 1ms/step - loss: 0.3115 - accuracy: 0.8869 - val_loss: 0.3447 - val_accuracy: 0.8726\n",
      "Epoch 5/40\n",
      "1875/1875 [==============================] - 2s 1ms/step - loss: 0.2944 - accuracy: 0.8917 - val_loss: 0.3366 - val_accuracy: 0.8800\n",
      "Epoch 6/40\n",
      "1875/1875 [==============================] - 2s 1ms/step - loss: 0.2814 - accuracy: 0.8957 - val_loss: 0.3444 - val_accuracy: 0.8740\n",
      "Epoch 7/40\n",
      "1875/1875 [==============================] - 2s 1ms/step - loss: 0.2693 - accuracy: 0.9001 - val_loss: 0.3409 - val_accuracy: 0.8775\n",
      "Epoch 8/40\n",
      "1875/1875 [==============================] - 2s 1ms/step - loss: 0.2594 - accuracy: 0.9031 - val_loss: 0.3412 - val_accuracy: 0.8813\n",
      "Epoch 9/40\n",
      "1875/1875 [==============================] - 2s 1ms/step - loss: 0.2474 - accuracy: 0.9076 - val_loss: 0.3419 - val_accuracy: 0.8803\n"
     ]
    },
    {
     "data": {
      "text/plain": [
       "<tensorflow.python.keras.callbacks.History at 0x7fe1e6790090>"
      ]
     },
     "execution_count": 38,
     "metadata": {},
     "output_type": "execute_result"
    }
   ],
   "source": [
    "log_dir='logs/fit/' + datetime.datetime.now().strftime('%Y%m%d-%H%M%S')\n",
    "tensorboard_callback = tf.keras.callbacks.TensorBoard(log_dir=log_dir, histogram_freq=1)\n",
    "early_stopping_callback = tf.keras.callbacks.EarlyStopping(monitor='val_loss', patience=4)\n",
    "\n",
    "model.fit(x=train_images, \n",
    "          y=train_labels, \n",
    "          epochs=40, \n",
    "          validation_data=(test_images, test_labels), \n",
    "          callbacks=[tensorboard_callback, early_stopping_callback])\n"
   ]
  },
  {
   "cell_type": "code",
   "execution_count": 40,
   "metadata": {
    "colab": {},
    "colab_type": "code",
    "id": "vUIOxIxcQSRH"
   },
   "outputs": [
    {
     "data": {
      "text/html": [
       "\n",
       "      <iframe id=\"tensorboard-frame-6aed656cba6d60cf\" width=\"100%\" height=\"800\" frameborder=\"0\">\n",
       "      </iframe>\n",
       "      <script>\n",
       "        (function() {\n",
       "          const frame = document.getElementById(\"tensorboard-frame-6aed656cba6d60cf\");\n",
       "          const url = new URL(\"/\", window.location);\n",
       "          const port = 6006;\n",
       "          if (port) {\n",
       "            url.port = port;\n",
       "          }\n",
       "          frame.src = url;\n",
       "        })();\n",
       "      </script>\n",
       "    "
      ],
      "text/plain": [
       "<IPython.core.display.HTML object>"
      ]
     },
     "metadata": {},
     "output_type": "display_data"
    }
   ],
   "source": [
    "!kill 27511   # sometime TensorBoard does not show all data.  If it shows reusing previous instance use kill command listed\n",
    "%tensorboard --logdir logs/fit"
   ]
  },
  {
   "cell_type": "markdown",
   "metadata": {
    "colab_type": "text",
    "id": "AwGPItyphqXT"
   },
   "source": [
    "## Save Your Model\n",
    "\n",
    "Now that we have our model working well.  We can save it for reuse.\n",
    "\n",
    "By saving the model's structure and the associated trained weights we preserve our work.  Those weights are well over 101,000 values for which we had to work hard to get to the proper numbers!!\n"
   ]
  },
  {
   "cell_type": "code",
   "execution_count": 55,
   "metadata": {
    "colab": {},
    "colab_type": "code",
    "id": "0w5Rq8SsgWE6"
   },
   "outputs": [
    {
     "name": "stdout",
     "output_type": "stream",
     "text": [
      "Saving model to : /Users/leoananth/Desktop/Online_Course_Certificates/Materials/build-train-deploy-first-neural-network-tensorflow/09/demos/1\n",
      "\n",
      "INFO:tensorflow:Assets written to: /Users/leoananth/Desktop/Online_Course_Certificates/Materials/build-train-deploy-first-neural-network-tensorflow/09/demos/1/assets\n",
      "Model saved\n"
     ]
    }
   ],
   "source": [
    "# We use the Python tempfile library to create files in a generated folder.  \n",
    "# If you want to used a defined path, replace this code with your own \n",
    "# path definitions. \n",
    "import tempfile\n",
    "import os\n",
    "\n",
    "# get the tempfile location for this Colab session\n",
    "MODEL_DIR = os.getcwd()\n",
    "version = 1   # NOTE: Adjust if you don't want to replace a version of your model\n",
    "export_path = os.path.join(MODEL_DIR, str(version))  # the final path includes the version\n",
    "print('Saving model to : {}\\n'.format(export_path))\n",
    "\n",
    "# if path already exists delete everything at the location\n",
    "if os.path.isdir(export_path):\n",
    "  print('\\nPreviously saved model found, deleting it\\n')\n",
    "  !rm -r {export_path}\n",
    "\n",
    "# Save the model  \n",
    "tf.saved_model.save(model, export_path)\n",
    "\n",
    "# Print save complete message\n",
    "print('Model saved')\n"
   ]
  },
  {
   "cell_type": "markdown",
   "metadata": {
    "colab_type": "text",
    "id": "8YbP9MjFLkRJ"
   },
   "source": [
    "\n",
    "\n",
    "# Deploying our Trained Model\n",
    "\n",
    "Once we are satisified with the model's performance we can deploy it so other programs can use it.  This is a complex subject since the deployment strategies depend on how our model will be used.\n",
    "\n",
    "In this script we will show a very basic way of deploying the model.  We will do just enough so we can make predictions with our trained model from Python.\n",
    "\n"
   ]
  },
  {
   "cell_type": "markdown",
   "metadata": {
    "colab_type": "text",
    "id": "BjXJXg2dZKlZ"
   },
   "source": [
    "## TensorFlow ModelServer\n",
    "\n",
    "We are going to use the Tensorflow ModelServer to serve our model.  This install may only work in Colab.  \n",
    "\n",
    "*The recommendation for general installation and usage of the server is to use a docker container.  This is documented in the repo, https://github.com/tensorflow/serving/blob/master/tensorflow_serving/g3doc/setup.md*"
   ]
  },
  {
   "cell_type": "markdown",
   "metadata": {
    "colab_type": "text",
    "id": "BTWb0-KjnHSP"
   },
   "source": [
    "## Add TensorFlow Serving as installable\n",
    "\n",
    "Before we can install the TensorFlow ModelServer we need to make it known to the APT installer so the installer know where to fetch the bits.\n",
    "\n",
    "We do this by adding a key in to the APT database refering to the tensorflow-serving files location."
   ]
  },
  {
   "cell_type": "code",
   "execution_count": 130,
   "metadata": {},
   "outputs": [
    {
     "name": "stdout",
     "output_type": "stream",
     "text": [
      "Using default tag: latest\n",
      "latest: Pulling from tensorflow/serving\n",
      "Digest: sha256:a94b7e3b0e825350675e83b0c2f2fc28f34be358c34e4126a1d828de899ec44f\n",
      "Status: Image is up to date for tensorflow/serving:latest\n",
      "docker.io/tensorflow/serving:latest\n"
     ]
    }
   ],
   "source": [
    "!docker pull tensorflow/serving"
   ]
  },
  {
   "cell_type": "code",
   "execution_count": 116,
   "metadata": {},
   "outputs": [
    {
     "name": "stdout",
     "output_type": "stream",
     "text": [
      "Cloning into 'serving'...\n",
      "remote: Enumerating objects: 9, done.\u001b[K\n",
      "remote: Counting objects: 100% (9/9), done.\u001b[K\n",
      "remote: Compressing objects: 100% (9/9), done.\u001b[K\n",
      "remote: Total 22690 (delta 6), reused 3 (delta 0), pack-reused 22681\u001b[K\n",
      "Receiving objects: 100% (22690/22690), 10.37 MiB | 9.87 MiB/s, done.\n",
      "Resolving deltas: 100% (17365/17365), done.\n"
     ]
    }
   ],
   "source": [
    "!mkdir -p /tmp/tfserving\n",
    "!cd /tmp/tfserving\n",
    "!git clone https://github.com/tensorflow/serving"
   ]
  },
  {
   "cell_type": "markdown",
   "metadata": {
    "colab_type": "text",
    "id": "k5NrYdQeVm52"
   },
   "source": [
    "### Start TensorFlow ModelServer\n",
    "\n",
    "This is where we start TensorFlow ModelServer and load our model.  After it loads we can start making inference requests using REST.  There are some important parameters:\n",
    "\n",
    "* `rest_api_port`: The port that you'll use for REST requests.\n",
    "* `model_name`: You'll use this in the URL of the REST requests.  It can be anything.\n",
    "* `model_base_path`: This is the path to the directory where you've saved your model.\n",
    "\n",
    "We need to define these as Python variables and as shell environment variables.  This will make this information available in Python code and in \n",
    "the shell where we will start the TensorFlow ModelServer process."
   ]
  },
  {
   "cell_type": "code",
   "execution_count": 140,
   "metadata": {
    "colab": {},
    "colab_type": "code",
    "id": "aUgp3vUdU5GS"
   },
   "outputs": [],
   "source": [
    "# Define the environment variable where our saved model resides\n",
    "os.environ['MODEL_DIR'] = MODEL_DIR\n",
    "# Define the Python constant and environment variable to point to the port number used to access our model\n",
    "REST_PORT = '8501'\n",
    "os.environ['REST_PORT'] = REST_PORT\n",
    "# Define the Python constant and environment variable to point to the our model name.\n",
    "#  This is an abitrary name.\n",
    "MODEL_NAME = 'fashion'\n",
    "os.environ['MODEL_NAME'] = MODEL_NAME\n",
    "\n",
    "MODEL_DIR = os.path.join(os.getcwd(),'models')"
   ]
  },
  {
   "cell_type": "code",
   "execution_count": null,
   "metadata": {},
   "outputs": [],
   "source": [
    "!docker run -p 8501:8501 \\\n",
    "  --mount type=bind,source=MODEL_DIR,target=MODEL_DIR/Fashion \\\n",
    "  -e MODEL_NAME=MODEL_NAME -t tensorflow/serving"
   ]
  },
  {
   "cell_type": "markdown",
   "metadata": {
    "colab_type": "text",
    "id": "vwg1JKaGXWAg"
   },
   "source": [
    "### Function to display image with user defined title"
   ]
  },
  {
   "cell_type": "code",
   "execution_count": 120,
   "metadata": {
    "colab": {},
    "colab_type": "code",
    "id": "Luqm_Jyff9iR"
   },
   "outputs": [],
   "source": [
    "def show_image(index, title, show_colorbar=False):\n",
    "  plt.figure()\n",
    "  plt.title('\\n\\n{}'.format(title), fontdict={'size': 16})\n",
    "  plt.imshow(test_images[index].reshape(28,28), cmap='gray')  # data is grayscale, but displays in color without cmap='gray'\n",
    "  if (show_colorbar):\n",
    "    plt.colorbar()\n",
    "  plt.axis('off')\n",
    "  plt.show()\n",
    "  \n",
    "  \n"
   ]
  },
  {
   "cell_type": "markdown",
   "metadata": {
    "colab_type": "text",
    "id": "x-Cc6WAFf4eg"
   },
   "source": [
    "## Make a REST request to predict class of our example image\n",
    "\n",
    "\n"
   ]
  },
  {
   "cell_type": "code",
   "execution_count": 121,
   "metadata": {
    "colab": {},
    "colab_type": "code",
    "id": "ReGh9AElrE4_"
   },
   "outputs": [
    {
     "name": "stdout",
     "output_type": "stream",
     "text": [
      "\u001b[33mWARNING: You are using pip version 20.1.1; however, version 20.2.3 is available.\r\n",
      "You should consider upgrading via the '/Users/leoananth/opt/anaconda3/bin/python -m pip install --upgrade pip' command.\u001b[0m\r\n"
     ]
    }
   ],
   "source": [
    "!pip install -q requests    # Install the requests library which makes HTTP requests to the TensorFlow server \n",
    "                            # using our trained our model \n",
    "import requests     # import requests "
   ]
  },
  {
   "cell_type": "code",
   "execution_count": 122,
   "metadata": {
    "colab": {},
    "colab_type": "code",
    "id": "3dJFAJ9LqXMk"
   },
   "outputs": [],
   "source": [
    "# Select a random image to classify\n",
    "import random\n",
    "image_index = random.randint(0,len(test_images)-1)\n"
   ]
  },
  {
   "cell_type": "code",
   "execution_count": 123,
   "metadata": {
    "colab": {},
    "colab_type": "code",
    "id": "pll06kNWsCBF"
   },
   "outputs": [],
   "source": [
    " # Import json library and create the json data structure to be passed in the request.\n",
    "import json\n",
    "\n",
    "# The data is assumed to be a list of images, a 4D tensor of the shape [*,28,28,1].  \n",
    "# Convert the single 3d to 4d\n",
    "check_images = np.reshape(test_images[image_index],(-1,28,28,1))\n",
    "\n",
    "# Construct json data passed to server.  \"instances\" will hold the image(s) we \n",
    "#   want the model to classify\n",
    "data = json.dumps({'signature_name': 'serving_default', 'instances': check_images.tolist()})  "
   ]
  },
  {
   "cell_type": "code",
   "execution_count": 141,
   "metadata": {
    "colab": {},
    "colab_type": "code",
    "id": "gelYGr-s2RXw"
   },
   "outputs": [
    {
     "name": "stdout",
     "output_type": "stream",
     "text": [
      "http://localhost:8501/v1/models/fashion:predict\n",
      "<Response [200]>\n"
     ]
    },
    {
     "data": {
      "image/png": "[encoded data removed]",
      "text/plain": [
       "<Figure size 432x288 with 1 Axes>"
      ]
     },
     "metadata": {
      "needs_background": "light"
     },
     "output_type": "display_data"
    }
   ],
   "source": [
    "# Create the request\n",
    "\n",
    "# HTTP request header\n",
    "headers = {'content-type': 'application/json'}\n",
    "\n",
    "# Build the url to the service using the constants we defined earlier, should be of the form:\n",
    "#      http://localhost:8501/v1/models/fashion_mnist:predict\n",
    "predict_service_url = 'http://localhost:' + REST_PORT + '/v1/models/' + MODEL_NAME + ':predict'\n",
    "\n",
    "# Make request to the service.  Pass the headers and data.  Wait for the server's reponse.\n",
    "json_response = requests.post(predict_service_url, data=data, headers=headers)\n",
    "print(predict_service_url)\n",
    "print(json_response)\n",
    "\n",
    "# Parse the response.  For each images we pass we get a list of probabilities \n",
    "predictions = json.loads(json_response.text)['predictions']\n",
    "# predictions[0] is the 10 probabilites for our first and only image.\n",
    "# predictions[0] has values in the form [0.1, 0.05, ...., 0.6]\n",
    "\n",
    "# The numpy argmax function returns the index of the highest value.  This is \n",
    "# the highest probabilty class predicted by our model. \n",
    "predicted_class = np.argmax(predictions[0])\n",
    "\n",
    "# Display image, the actual class and the predicted class\n",
    "show_image(image_index, 'Model predicted class: {} (class {}). \\n Actually class: {} (class {})'.format(\n",
    "  class_names[predicted_class], predicted_class, class_names[test_labels[image_index]], test_labels[image_index]))"
   ]
  },
  {
   "cell_type": "code",
   "execution_count": null,
   "metadata": {},
   "outputs": [],
   "source": []
  }
 ],
 "metadata": {
  "accelerator": "GPU",
  "colab": {
   "collapsed_sections": [],
   "name": "Fashion_MNIST.ipynb",
   "provenance": []
  },
  "kernelspec": {
   "display_name": "Python 3",
   "language": "python",
   "name": "python3"
  },
  "language_info": {
   "codemirror_mode": {
    "name": "ipython",
    "version": 3
   },
   "file_extension": ".py",
   "mimetype": "text/x-python",
   "name": "python",
   "nbconvert_exporter": "python",
   "pygments_lexer": "ipython3",
   "version": "3.7.4"
  }
 },
 "nbformat": 4,
 "nbformat_minor": 1
}
